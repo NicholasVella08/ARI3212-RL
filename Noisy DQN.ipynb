{
 "cells": [
  {
   "cell_type": "code",
   "execution_count": 1,
   "metadata": {
    "colab": {
     "base_uri": "https://localhost:8080/"
    },
    "executionInfo": {
     "elapsed": 20817,
     "status": "ok",
     "timestamp": 1699114683909,
     "user": {
      "displayName": "Vince Vella",
      "userId": "12961833731572219082"
     },
     "user_tz": -60
    },
    "id": "WF-_oqF3yryk",
    "outputId": "5816eb86-bcc3-4716-e37c-6416ac0e39a8"
   },
   "outputs": [
    {
     "name": "stderr",
     "output_type": "stream",
     "text": [
      "Unable to create process using 'C:\\Users\\Nicholas Vella\\anaconda3\\python.exe \"C:\\Users\\Nicholas Vella\\anaconda3\\Scripts\\pip-script.py\" install gymnasium'\n",
      "Unable to create process using 'C:\\Users\\Nicholas Vella\\anaconda3\\python.exe \"C:\\Users\\Nicholas Vella\\anaconda3\\Scripts\\pip-script.py\" install renderlab'\n"
     ]
    }
   ],
   "source": [
    "!pip install gymnasium\n",
    "!pip install renderlab"
   ]
  },
  {
   "cell_type": "code",
   "execution_count": 2,
   "metadata": {
    "id": "NgzBrXmI-0pe"
   },
   "outputs": [],
   "source": [
    "import gymnasium as gym\n",
    "import numpy as np\n",
    "import torch\n",
    "import torch.nn as nn\n",
    "import torch.nn.functional as F\n",
    "import matplotlib.pyplot as plt\n",
    "from typing import Sequence\n",
    "from collections import namedtuple, deque\n",
    "import itertools\n",
    "import random\n",
    "import warnings\n",
    "warnings.filterwarnings(\"ignore\")\n"
   ]
  },
  {
   "cell_type": "code",
   "execution_count": 3,
   "metadata": {
    "id": "J52YXszzo8CP"
   },
   "outputs": [],
   "source": [
    "GAMMA = 0.99\n",
    "BATCH_SIZE = 128\n",
    "BUFFER_SIZE = 10000\n",
    "MIN_REPLAY_SIZE = 5000\n",
    "TARGET_UPDATE_FREQ = 5\n",
    "\n"
   ]
  },
  {
   "cell_type": "code",
   "execution_count": 4,
   "metadata": {
    "id": "ZU3kl9XGpgMU"
   },
   "outputs": [],
   "source": [
    "env = gym.make(\"LunarLander-v2\", render_mode = \"rgb_array\")\n",
    "obs = env.reset()\n",
    "episode_reward = 0.0"
   ]
  },
  {
   "cell_type": "code",
   "execution_count": 5,
   "metadata": {
    "id": "-hn3p_-FtCz6"
   },
   "outputs": [],
   "source": [
    "Transition = namedtuple('Transition', ('states', 'actions', 'rewards', 'dones', 'next_states'))\n",
    "\n",
    "class Replay_memory():\n",
    "\n",
    "    def __init__(self, env, fullsize, minsize, batchsize):\n",
    "        self.env = env\n",
    "        self.memory = deque(maxlen=fullsize)\n",
    "        self.rewards = deque(maxlen=50)\n",
    "        self.batchsize = batchsize\n",
    "        self.minsize = minsize\n",
    "\n",
    "    def append(self, transition):\n",
    "        self.memory.append(transition)\n",
    "\n",
    "    def sample_batch(self):\n",
    "        batch = random.sample(self.memory, self.batchsize)\n",
    "        batch = Transition(*zip(*batch))\n",
    "        states = torch.from_numpy(np.array(batch.states, dtype=np.float32))\n",
    "        actions = torch.from_numpy(np.array(batch.actions, dtype=np.int64)).unsqueeze(1)\n",
    "        rewards = torch.from_numpy(np.array(batch.rewards, dtype=np.float32)).unsqueeze(1)\n",
    "        dones = torch.from_numpy(np.array(batch.dones, dtype=np.bool8)).unsqueeze(1)\n",
    "        next_states = torch.from_numpy(np.array(batch.next_states, dtype=np.float32))\n",
    "        return states, actions, rewards, dones, next_states\n",
    "\n",
    "    def initialize(self):\n",
    "        obs, _ = env.reset()\n",
    "        for _ in range(self.minsize):\n",
    "            action = self.env.action_space.sample()\n",
    "            new_obs, reward, terminated, truncated, info = env.step(action)\n",
    "            done = terminated or truncated\n",
    "            transition = Transition(obs, action, reward, done, new_obs)\n",
    "            self.append(transition)\n",
    "            obs = new_obs\n",
    "            if done:\n",
    "                self.env.reset()\n",
    "        return self"
   ]
  },
  {
   "cell_type": "code",
   "execution_count": 6,
   "metadata": {
    "id": "6XDTj2xHuuT9"
   },
   "outputs": [],
   "source": [
    "replay_memory = Replay_memory(env, BUFFER_SIZE, MIN_REPLAY_SIZE, BATCH_SIZE).initialize()"
   ]
  },
  {
   "cell_type": "code",
   "execution_count": 7,
   "metadata": {
    "id": "pTh3GRR7Mun3"
   },
   "outputs": [],
   "source": [
    "from torch.nn.init import  uniform_\n",
    "import math\n",
    "\n",
    "class NoisyLinear(nn.Module):\n",
    "    def __init__(self, in_size, out_size):\n",
    "        super(NoisyLinear, self).__init__()\n",
    "\n",
    "        self.w_mu = nn.Parameter(torch.empty((out_size, in_size)))\n",
    "        self.w_sigma = nn.Parameter(torch.empty((out_size, in_size)))\n",
    "        self.b_mu = nn.Parameter(torch.empty((out_size)))\n",
    "        self.b_sigma = nn.Parameter(torch.empty((out_size)))\n",
    "\n",
    "        uniform_(self.w_mu, -math.sqrt(3 / in_size), math.sqrt(3 / in_size))\n",
    "        uniform_(self.b_mu, -math.sqrt(3 / in_size), math.sqrt(3 / in_size))\n",
    "        nn.init.constant(self.w_sigma, 0.017)\n",
    "        nn.init.constant(self.b_sigma, 0.017)\n",
    "\n",
    "    def forward(self, x, sigma=2):   #0.7\n",
    "        if self.training:\n",
    "            w_noise = torch.normal(0, sigma, size=self.w_mu.size())\n",
    "            b_noise = torch.normal(0, sigma, size=self.b_mu.size())\n",
    "            return F.linear(x, self.w_mu + self.w_sigma * w_noise, self.b_mu + self.b_sigma * b_noise)\n",
    "        else:\n",
    "            return F.linear(x, self.w_mu, self.b_mu)\n"
   ]
  },
  {
   "cell_type": "code",
   "execution_count": 8,
   "metadata": {
    "id": "8gf3yLhEzbwI"
   },
   "outputs": [],
   "source": [
    "class DQN(nn.Module):\n",
    "    def __init__(self, ninputs, noutputs):\n",
    "        super(DQN, self).__init__()\n",
    "        self.a1 = NoisyLinear(ninputs, 64)\n",
    "        self.a2 = NoisyLinear(64, noutputs)\n",
    "\n",
    "    def forward(self, X):\n",
    "        o = self.a1(X)\n",
    "        o = torch.tanh(o)\n",
    "        o = self.a2(o)\n",
    "        return o\n",
    "\n",
    "    def __call__(self, X):\n",
    "        return self.forward(X)"
   ]
  },
  {
   "cell_type": "code",
   "execution_count": 9,
   "metadata": {
    "colab": {
     "base_uri": "https://localhost:8080/"
    },
    "executionInfo": {
     "elapsed": 931,
     "status": "ok",
     "timestamp": 1699114691295,
     "user": {
      "displayName": "Vince Vella",
      "userId": "12961833731572219082"
     },
     "user_tz": -60
    },
    "id": "OG3YtDlHqgKE",
    "outputId": "be78a6da-f957-4ca5-d1c6-3695a3646142"
   },
   "outputs": [
    {
     "data": {
      "text/plain": [
       "DQN(\n",
       "  (a1): NoisyLinear()\n",
       "  (a2): NoisyLinear()\n",
       ")"
      ]
     },
     "execution_count": 9,
     "metadata": {},
     "output_type": "execute_result"
    }
   ],
   "source": [
    "dqn_policy = DQN(env.observation_space.shape[0], env.action_space.n)\n",
    "dqn_target = DQN(env.observation_space.shape[0], env.action_space.n)\n",
    "dqn_target.load_state_dict(dqn_policy.state_dict())\n",
    "dqn_policy.train()\n",
    "dqn_target.eval()"
   ]
  },
  {
   "cell_type": "code",
   "execution_count": 10,
   "metadata": {
    "id": "4MX42oYQ1z9N"
   },
   "outputs": [],
   "source": [
    "loss_fn = nn.MSELoss()\n",
    "learning_rate = 0.001\n",
    "optimizer = torch.optim.AdamW(dqn_policy.parameters(), lr=learning_rate)"
   ]
  },
  {
   "cell_type": "markdown",
   "metadata": {
    "id": "BJPE8zvTaVRD"
   },
   "source": [
    "## Training"
   ]
  },
  {
   "cell_type": "code",
   "execution_count": 11,
   "metadata": {
    "colab": {
     "base_uri": "https://localhost:8080/"
    },
    "executionInfo": {
     "elapsed": 191169,
     "status": "ok",
     "timestamp": 1699114882449,
     "user": {
      "displayName": "Vince Vella",
      "userId": "12961833731572219082"
     },
     "user_tz": -60
    },
    "id": "W02u8e1AaXyl",
    "outputId": "f45d4488-c9ac-4402-caf6-c3db12bd0821"
   },
   "outputs": [
    {
     "name": "stdout",
     "output_type": "stream",
     "text": [
      "Episode: 100 Avg Results: -144.16149637400582\n",
      "Episode: 200 Avg Results: -132.80179455427125\n",
      "Episode: 300 Avg Results: -111.80674287440584\n",
      "Episode: 400 Avg Results: -36.89009588245793\n",
      "Episode: 500 Avg Results: -103.15143854244546\n",
      "Episode: 600 Avg Results: -74.91180140818706\n",
      "Episode: 700 Avg Results: -60.3610823006857\n",
      "Episode: 800 Avg Results: -109.01719842731134\n",
      "Episode: 900 Avg Results: -44.94870826847732\n",
      "Episode: 1000 Avg Results: -91.72583239092917\n",
      "Episode: 1100 Avg Results: -69.6818186462919\n",
      "Episode: 1200 Avg Results: -106.46355331577772\n",
      "Episode: 1300 Avg Results: -18.176761539739438\n",
      "Episode: 1400 Avg Results: -50.32896141617757\n",
      "Episode: 1500 Avg Results: 50.5669588303669\n",
      "Episode: 1600 Avg Results: -18.221551077383165\n",
      "Episode: 1700 Avg Results: -20.634205165796814\n",
      "Episode: 1800 Avg Results: -71.8897889883323\n",
      "Episode: 1900 Avg Results: -67.60101591430184\n",
      "Episode: 2000 Avg Results: -71.34289099763706\n",
      "Episode: 2100 Avg Results: -9.839277170454963\n"
     ]
    },
    {
     "ename": "KeyboardInterrupt",
     "evalue": "",
     "output_type": "error",
     "traceback": [
      "\u001b[1;31m---------------------------------------------------------------------------\u001b[0m",
      "\u001b[1;31mKeyboardInterrupt\u001b[0m                         Traceback (most recent call last)",
      "Cell \u001b[1;32mIn[11], line 37\u001b[0m\n\u001b[0;32m     33\u001b[0m b_states, b_actions, b_rewards, b_dones, b_next_states \u001b[38;5;241m=\u001b[39m replay_memory\u001b[38;5;241m.\u001b[39msample_batch()\n\u001b[0;32m     35\u001b[0m qvalues \u001b[38;5;241m=\u001b[39m dqn_policy(b_states)\u001b[38;5;241m.\u001b[39mgather(\u001b[38;5;241m1\u001b[39m, b_actions)\n\u001b[1;32m---> 37\u001b[0m \u001b[38;5;28;01mwith\u001b[39;00m torch\u001b[38;5;241m.\u001b[39mno_grad():\n\u001b[0;32m     38\u001b[0m     target_qvalues \u001b[38;5;241m=\u001b[39m dqn_target(b_next_states)\n\u001b[0;32m     39\u001b[0m     max_target_qvalues \u001b[38;5;241m=\u001b[39m torch\u001b[38;5;241m.\u001b[39mmax(target_qvalues, axis\u001b[38;5;241m=\u001b[39m\u001b[38;5;241m1\u001b[39m)\u001b[38;5;241m.\u001b[39mvalues\u001b[38;5;241m.\u001b[39munsqueeze(\u001b[38;5;241m1\u001b[39m)\n",
      "File \u001b[1;32m~\\anaconda3\\Lib\\site-packages\\torch\\autograd\\grad_mode.py:82\u001b[0m, in \u001b[0;36mno_grad.__exit__\u001b[1;34m(self, exc_type, exc_value, traceback)\u001b[0m\n\u001b[0;32m     79\u001b[0m     \u001b[38;5;28mself\u001b[39m\u001b[38;5;241m.\u001b[39mprev \u001b[38;5;241m=\u001b[39m torch\u001b[38;5;241m.\u001b[39mis_grad_enabled()\n\u001b[0;32m     80\u001b[0m     torch\u001b[38;5;241m.\u001b[39mset_grad_enabled(\u001b[38;5;28;01mFalse\u001b[39;00m)\n\u001b[1;32m---> 82\u001b[0m \u001b[38;5;28;01mdef\u001b[39;00m \u001b[38;5;21m__exit__\u001b[39m(\u001b[38;5;28mself\u001b[39m, exc_type: Any, exc_value: Any, traceback: Any) \u001b[38;5;241m-\u001b[39m\u001b[38;5;241m>\u001b[39m \u001b[38;5;28;01mNone\u001b[39;00m:\n\u001b[0;32m     83\u001b[0m     torch\u001b[38;5;241m.\u001b[39mset_grad_enabled(\u001b[38;5;28mself\u001b[39m\u001b[38;5;241m.\u001b[39mprev)\n",
      "\u001b[1;31mKeyboardInterrupt\u001b[0m: "
     ]
    }
   ],
   "source": [
    "obs, _ = env.reset()\n",
    "episode = 1\n",
    "all_rewards = []\n",
    "all_episodes = []\n",
    "\n",
    "for step in itertools.count():\n",
    "    action = int(torch.argmax(dqn_policy(torch.Tensor(obs))))\n",
    "    new_obs, reward, terminated, truncated, _ = env.step(action)\n",
    "    done = terminated or truncated\n",
    "    replay_memory.append(Transition(obs, action, reward, done, new_obs))\n",
    "    episode_reward += reward\n",
    "    obs = new_obs\n",
    "\n",
    "    if done:\n",
    "        episode += 1\n",
    "        replay_memory.rewards.append(episode_reward)\n",
    "        obs, _ = env.reset()\n",
    "        avg_res = np.mean(replay_memory.rewards)\n",
    "        \n",
    "\n",
    "\n",
    "        all_rewards.append(avg_res)\n",
    "        all_episodes.append(episode)\n",
    "        \n",
    "        if episode % 100 == 0:\n",
    "            print(f'Episode: {episode} Avg Results: {avg_res}')\n",
    "\n",
    "        if avg_res >= 195:\n",
    "            print(f'Solved at episode: {episode} Avg Results: {avg_res}')\n",
    "            break\n",
    "        episode_reward = 0\n",
    "\n",
    "    b_states, b_actions, b_rewards, b_dones, b_next_states = replay_memory.sample_batch()\n",
    "\n",
    "    qvalues = dqn_policy(b_states).gather(1, b_actions)\n",
    "\n",
    "    with torch.no_grad():\n",
    "        target_qvalues = dqn_target(b_next_states)\n",
    "        max_target_qvalues = torch.max(target_qvalues, axis=1).values.unsqueeze(1)\n",
    "        expected_qvalues = b_rewards + GAMMA * (1 - b_dones.type(torch.int64)) * max_target_qvalues\n",
    "\n",
    "    loss = loss_fn(qvalues, expected_qvalues)\n",
    "    optimizer.zero_grad()\n",
    "    loss.backward()\n",
    "    for param in dqn_policy.parameters():\n",
    "        param.grad.data.clamp_(-1, 1)\n",
    "    optimizer.step()\n",
    "\n",
    "    if episode % TARGET_UPDATE_FREQ == 0:\n",
    "        dqn_target.load_state_dict(dqn_policy.state_dict())"
   ]
  },
  {
   "cell_type": "code",
   "execution_count": null,
   "metadata": {
    "id": "4IXwXrNZzVB2"
   },
   "outputs": [],
   "source": [
    "# Plot the returns versus trained episodes\n",
    "plt.plot(all_episodes, all_rewards)\n",
    "plt.xlabel('Episodes')\n",
    "plt.ylabel('Average Rewards')\n",
    "plt.title('Reward vs Episodes')\n",
    "plt.show()"
   ]
  }
 ],
 "metadata": {
  "accelerator": "TPU",
  "colab": {
   "authorship_tag": "ABX9TyMriHhJkCKBtcSSJhEx1dQo",
   "provenance": [
    {
     "file_id": "1sqU6SpAKEWl38_kvTdAasz2F7Acsy2LR",
     "timestamp": 1656770152735
    },
    {
     "file_id": "1b1gnyCrODe-d91bGuCuF2D2mi7Q-k1Am",
     "timestamp": 1652367414969
    },
    {
     "file_id": "1lfwXlCp2ZQpoI7lpS5J423hdDVZzRTJP",
     "timestamp": 1651942364460
    }
   ]
  },
  "kernelspec": {
   "display_name": "Python 3 (ipykernel)",
   "language": "python",
   "name": "python3"
  },
  "language_info": {
   "codemirror_mode": {
    "name": "ipython",
    "version": 3
   },
   "file_extension": ".py",
   "mimetype": "text/x-python",
   "name": "python",
   "nbconvert_exporter": "python",
   "pygments_lexer": "ipython3",
   "version": "3.11.5"
  }
 },
 "nbformat": 4,
 "nbformat_minor": 1
}
