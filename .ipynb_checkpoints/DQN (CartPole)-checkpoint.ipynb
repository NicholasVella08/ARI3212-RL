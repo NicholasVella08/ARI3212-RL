{
 "cells": [
  {
   "cell_type": "code",
   "execution_count": 1,
   "metadata": {
    "colab": {
     "base_uri": "https://localhost:8080/"
    },
    "executionInfo": {
     "elapsed": 19421,
     "status": "ok",
     "timestamp": 1698150359283,
     "user": {
      "displayName": "Vince Vella",
      "userId": "12961833731572219082"
     },
     "user_tz": -120
    },
    "id": "jG_UxYkr03MD",
    "outputId": "f2f1f0a3-4740-4320-aab5-731d3748d1b8"
   },
   "outputs": [
    {
     "name": "stderr",
     "output_type": "stream",
     "text": [
      "Unable to create process using 'C:\\Users\\Nicholas Vella\\anaconda3\\python.exe \"C:\\Users\\Nicholas Vella\\anaconda3\\Scripts\\pip-script.py\" install gymnasium'\n",
      "Unable to create process using 'C:\\Users\\Nicholas Vella\\anaconda3\\python.exe \"C:\\Users\\Nicholas Vella\\anaconda3\\Scripts\\pip-script.py\" install renderlab'\n"
     ]
    }
   ],
   "source": [
    "!pip install gymnasium\n",
    "!pip install renderlab"
   ]
  },
  {
   "cell_type": "code",
   "execution_count": 2,
   "metadata": {
    "id": "NgzBrXmI-0pe"
   },
   "outputs": [],
   "source": [
    "import gymnasium as gym\n",
    "import numpy as np\n",
    "import torch\n",
    "import torch.nn as nn\n",
    "import torch.nn.functional as F\n",
    "import matplotlib.pyplot as plt\n",
    "from typing import Sequence\n",
    "from collections import namedtuple, deque\n",
    "import itertools\n",
    "import random\n",
    "import warnings\n",
    "warnings.filterwarnings(\"ignore\")"
   ]
  },
  {
   "cell_type": "code",
   "execution_count": 3,
   "metadata": {
    "id": "J52YXszzo8CP"
   },
   "outputs": [],
   "source": [
    "GAMMA = 0.99\n",
    "BATCH_SIZE = 128\n",
    "BUFFER_SIZE = 10000\n",
    "MIN_REPLAY_SIZE = 5000\n",
    "EPS_START = 0.9\n",
    "EPS_END = 0.05\n",
    "EPS_DECAY = 0.997\n",
    "TARGET_UPDATE_FREQ = 5"
   ]
  },
  {
   "cell_type": "code",
   "execution_count": 4,
   "metadata": {
    "id": "ZU3kl9XGpgMU"
   },
   "outputs": [],
   "source": [
    "env = gym.make(\"LunarLander-v2\", render_mode = \"rgb_array\")\n",
    "obs = env.reset()\n",
    "episode_reward = 0.0"
   ]
  },
  {
   "cell_type": "code",
   "execution_count": 5,
   "metadata": {
    "id": "-hn3p_-FtCz6"
   },
   "outputs": [],
   "source": [
    "Transition = namedtuple('Transition', ('states', 'actions', 'rewards', 'dones', 'next_states'))\n",
    "\n",
    "class Replay_memory():\n",
    "\n",
    "    def __init__(self, env, fullsize, minsize, batchsize):\n",
    "        self.env = env\n",
    "        self.memory = deque(maxlen=fullsize)\n",
    "        self.rewards = deque(maxlen=50)\n",
    "        self.batchsize = batchsize\n",
    "        self.minsize = minsize\n",
    "\n",
    "    def append(self, transition):\n",
    "        self.memory.append(transition)\n",
    "\n",
    "    def sample_batch(self):\n",
    "        batch = random.sample(self.memory, self.batchsize)\n",
    "        batch = Transition(*zip(*batch))\n",
    "        states = torch.from_numpy(np.array(batch.states, dtype=np.float32))\n",
    "        actions = torch.from_numpy(np.array(batch.actions, dtype=np.int64)).unsqueeze(1)\n",
    "        rewards = torch.from_numpy(np.array(batch.rewards, dtype=np.float32)).unsqueeze(1)\n",
    "        dones = torch.from_numpy(np.array(batch.dones, dtype=np.bool8)).unsqueeze(1)\n",
    "        next_states = torch.from_numpy(np.array(batch.next_states, dtype=np.float32))\n",
    "        return states, actions, rewards, dones, next_states\n",
    "\n",
    "    def initialize(self):\n",
    "        obs, info = env.reset()\n",
    "        for _ in range(self.minsize):\n",
    "            action = self.env.action_space.sample()\n",
    "            new_obs, reward, terminated, truncated, info = env.step(action)\n",
    "            done = terminated or truncated\n",
    "            transition = Transition(obs, action, reward, done, new_obs)\n",
    "            self.append(transition)\n",
    "            obs = new_obs\n",
    "            if done:\n",
    "                self.env.reset()\n",
    "        return self"
   ]
  },
  {
   "cell_type": "code",
   "execution_count": 6,
   "metadata": {
    "id": "6XDTj2xHuuT9"
   },
   "outputs": [],
   "source": [
    "replay_memory = Replay_memory(env, BUFFER_SIZE, MIN_REPLAY_SIZE, BATCH_SIZE).initialize()"
   ]
  },
  {
   "cell_type": "code",
   "execution_count": 7,
   "metadata": {
    "id": "8gf3yLhEzbwI"
   },
   "outputs": [],
   "source": [
    "class DQN(nn.Module):\n",
    "    def __init__(self, ninputs, noutputs):\n",
    "        super(DQN, self).__init__()\n",
    "        self.a1 = nn.Linear(ninputs, 64)\n",
    "        self.a2 = nn.Linear(64, noutputs)\n",
    "\n",
    "    def forward(self, X):\n",
    "        o = self.a1(X)\n",
    "        o = torch.tanh(o)\n",
    "        o = self.a2(o)\n",
    "        return o\n",
    "\n",
    "    def __call__(self, X):\n",
    "        return self.forward(X)"
   ]
  },
  {
   "cell_type": "code",
   "execution_count": 8,
   "metadata": {
    "colab": {
     "base_uri": "https://localhost:8080/"
    },
    "executionInfo": {
     "elapsed": 5,
     "status": "ok",
     "timestamp": 1698150368324,
     "user": {
      "displayName": "Vince Vella",
      "userId": "12961833731572219082"
     },
     "user_tz": -120
    },
    "id": "OG3YtDlHqgKE",
    "outputId": "bb7762a8-667a-4281-b236-cbf269c84d6a"
   },
   "outputs": [
    {
     "data": {
      "text/plain": [
       "DQN(\n",
       "  (a1): Linear(in_features=8, out_features=64, bias=True)\n",
       "  (a2): Linear(in_features=64, out_features=4, bias=True)\n",
       ")"
      ]
     },
     "execution_count": 8,
     "metadata": {},
     "output_type": "execute_result"
    }
   ],
   "source": [
    "dqn_policy = DQN(env.observation_space.shape[0], env.action_space.n)\n",
    "dqn_target = DQN(env.observation_space.shape[0], env.action_space.n)\n",
    "dqn_target.load_state_dict(dqn_policy.state_dict())\n",
    "dqn_target.eval()"
   ]
  },
  {
   "cell_type": "code",
   "execution_count": 9,
   "metadata": {
    "id": "4MX42oYQ1z9N"
   },
   "outputs": [],
   "source": [
    "loss_fn = nn.MSELoss()\n",
    "learning_rate = 0.001\n",
    "optimizer = torch.optim.Adam(dqn_policy.parameters(), lr=learning_rate)"
   ]
  },
  {
   "cell_type": "code",
   "execution_count": 10,
   "metadata": {
    "id": "7Mf-uHB-LT8a"
   },
   "outputs": [],
   "source": [
    "def epsilon_greedy_policy(epsilon, obs):\n",
    "    rnd_sample = random.random()\n",
    "    if rnd_sample <= epsilon:\n",
    "        action = env.action_space.sample()\n",
    "    else:\n",
    "        with torch.no_grad():\n",
    "            action = int(torch.argmax(dqn_policy(torch.Tensor(obs))))\n",
    "    return action"
   ]
  },
  {
   "cell_type": "markdown",
   "metadata": {
    "id": "BJPE8zvTaVRD"
   },
   "source": [
    "## Training"
   ]
  },
  {
   "cell_type": "code",
   "execution_count": 11,
   "metadata": {
    "colab": {
     "base_uri": "https://localhost:8080/"
    },
    "executionInfo": {
     "elapsed": 227584,
     "status": "ok",
     "timestamp": 1698150596242,
     "user": {
      "displayName": "Vince Vella",
      "userId": "12961833731572219082"
     },
     "user_tz": -120
    },
    "id": "W02u8e1AaXyl",
    "outputId": "a1221a25-552b-4b0b-b6a6-9ab7a7c61159"
   },
   "outputs": [
    {
     "name": "stdout",
     "output_type": "stream",
     "text": [
      "Episode: 100 Avg Results: -129.06771937842157 Epsilon: 0.6684411570569752\n",
      "Episode: 200 Avg Results: -96.70803443498647 Epsilon: 0.49497015522925014\n",
      "Episode: 300 Avg Results: -11.862283504958889 Epsilon: 0.3665176088892224\n",
      "Episode: 400 Avg Results: 59.25963841779802 Epsilon: 0.2714005202266275\n",
      "Episode: 500 Avg Results: 97.98635248429906 Epsilon: 0.2009678132587261\n",
      "Episode: 600 Avg Results: 160.61483610519133 Epsilon: 0.14881350239221705\n",
      "Solved at episode: 624 Avg Results: 197.45202031784072\n"
     ]
    }
   ],
   "source": [
    "obs, info = env.reset()\n",
    "eps_threshold =EPS_START\n",
    "episode = 1\n",
    "all_rewards = []\n",
    "all_episodes = []\n",
    "\n",
    "for step in itertools.count():\n",
    "    action = epsilon_greedy_policy(eps_threshold, obs)\n",
    "    new_obs, reward, terminated, truncated, _ = env.step(action)\n",
    "    done = terminated or truncated\n",
    "    replay_memory.append(Transition(obs, action, reward, done, new_obs))\n",
    "    episode_reward += reward\n",
    "    obs = new_obs\n",
    "\n",
    "    if done:\n",
    "        episode += 1\n",
    "        eps_threshold = np.max((eps_threshold*EPS_DECAY, EPS_END))\n",
    "        replay_memory.rewards.append(episode_reward)\n",
    "        obs, info = env.reset()\n",
    "        avg_res = np.mean(replay_memory.rewards)\n",
    "\n",
    "        if episode % 100 == 0:\n",
    "            avg_res = np.mean(replay_memory.rewards)\n",
    "            # Store rewards and episodes for plotting\n",
    "            all_rewards.append(avg_res)\n",
    "            all_episodes.append(episode)\n",
    "\n",
    "            print(f'Episode: {episode} Avg Results: {avg_res} Epsilon: {eps_threshold}')\n",
    "\n",
    "        if avg_res >= 195:\n",
    "            print(f'Solved at episode: {episode} Avg Results: {avg_res}')\n",
    "            break\n",
    "        episode_reward = 0\n",
    "\n",
    "    b_states, b_actions, b_rewards, b_dones, b_next_states = replay_memory.sample_batch()\n",
    "\n",
    "    qvalues = dqn_policy(b_states).gather(1, b_actions)\n",
    "\n",
    "    with torch.no_grad():\n",
    "        target_qvalues = dqn_target(b_next_states)\n",
    "        max_target_qvalues = torch.max(target_qvalues, axis=1).values.unsqueeze(1)\n",
    "        expected_qvalues = b_rewards + GAMMA * (1 - b_dones.type(torch.int64)) * max_target_qvalues\n",
    "\n",
    "    loss = loss_fn(qvalues, expected_qvalues)\n",
    "    optimizer.zero_grad()\n",
    "    loss.backward()\n",
    "    for param in dqn_policy.parameters():\n",
    "        param.grad.data.clamp_(-1, 1)\n",
    "    optimizer.step()\n",
    "\n",
    "    if episode % TARGET_UPDATE_FREQ == 0:\n",
    "        dqn_target.load_state_dict(dqn_policy.state_dict())\n"
   ]
  },
  {
   "cell_type": "code",
   "execution_count": 12,
   "metadata": {
    "id": "5C5_k0sHsO0a"
   },
   "outputs": [
    {
     "data": {
      "image/png": "[encoded data removed]",
      "text/plain": [
       "<Figure size 640x480 with 1 Axes>"
      ]
     },
     "metadata": {},
     "output_type": "display_data"
    }
   ],
   "source": [
    "# Plot the returns versus trained episodes\n",
    "plt.plot(all_episodes, all_rewards)\n",
    "plt.xlabel('Episodes')\n",
    "plt.ylabel('Average Rewards')\n",
    "plt.title('Reward vs Episodes')\n",
    "plt.show()"
   ]
  },
  {
   "cell_type": "code",
   "execution_count": null,
   "metadata": {
    "id": "2csEOVyNNH7R"
   },
   "outputs": [],
   "source": []
  }
 ],
 "metadata": {
  "accelerator": "TPU",
  "colab": {
   "authorship_tag": "ABX9TyM34dCbSnQLArBpItJxmhlU",
   "provenance": [
    {
     "file_id": "1urVQ511uw8jnYsqsQq_5bPxzXqZ49iAR",
     "timestamp": 1688582590872
    },
    {
     "file_id": "1vt3Y0HAprLQqjU_wnBApVJFEzrxhSLOi",
     "timestamp": 1666817422813
    },
    {
     "file_id": "1sqU6SpAKEWl38_kvTdAasz2F7Acsy2LR",
     "timestamp": 1666809109629
    },
    {
     "file_id": "1b1gnyCrODe-d91bGuCuF2D2mi7Q-k1Am",
     "timestamp": 1652367414969
    },
    {
     "file_id": "1lfwXlCp2ZQpoI7lpS5J423hdDVZzRTJP",
     "timestamp": 1651942364460
    }
   ]
  },
  "kernelspec": {
   "display_name": "Python 3 (ipykernel)",
   "language": "python",
   "name": "python3"
  },
  "language_info": {
   "codemirror_mode": {
    "name": "ipython",
    "version": 3
   },
   "file_extension": ".py",
   "mimetype": "text/x-python",
   "name": "python",
   "nbconvert_exporter": "python",
   "pygments_lexer": "ipython3",
   "version": "3.11.5"
  }
 },
 "nbformat": 4,
 "nbformat_minor": 1
}
