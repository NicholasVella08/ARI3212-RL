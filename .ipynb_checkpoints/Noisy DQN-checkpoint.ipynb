{
 "cells": [
  {
   "cell_type": "markdown",
   "metadata": {},
   "source": [
    "# <center>Experiment 1.2</center>"
   ]
  },
  {
   "cell_type": "markdown",
   "metadata": {},
   "source": [
    "### <center>Improvement 2: Noisy DQN</center>"
   ]
  },
  {
   "cell_type": "code",
   "execution_count": 1,
   "metadata": {
    "id": "NgzBrXmI-0pe"
   },
   "outputs": [],
   "source": [
    "import gymnasium as gym\n",
    "import numpy as np\n",
    "import torch\n",
    "import torch.nn as nn\n",
    "import torch.nn.functional as F\n",
    "import matplotlib.pyplot as plt\n",
    "from typing import Sequence\n",
    "from collections import namedtuple, deque\n",
    "import itertools\n",
    "import random\n",
    "import warnings\n",
    "\n",
    "from torch.nn.init import  uniform_\n",
    "import math\n",
    "warnings.filterwarnings(\"ignore\")\n"
   ]
  },
  {
   "cell_type": "code",
   "execution_count": 2,
   "metadata": {
    "id": "J52YXszzo8CP"
   },
   "outputs": [],
   "source": [
    "# Hyperparameters\n",
    "GAMMA = 0.99\n",
    "BATCH_SIZE = 32 \n",
    "BUFFER_SIZE = 10000\n",
    "MIN_REPLAY_SIZE = 5000\n",
    "TARGET_UPDATE_FREQ = 5"
   ]
  },
  {
   "cell_type": "code",
   "execution_count": 3,
   "metadata": {
    "id": "ZU3kl9XGpgMU"
   },
   "outputs": [],
   "source": [
    "# Create LunarLander environment\n",
    "env = gym.make(\"LunarLander-v2\", render_mode = \"rgb_array\")\n",
    "obs = env.reset()\n",
    "episode_reward = 0.0"
   ]
  },
  {
   "cell_type": "code",
   "execution_count": 4,
   "metadata": {
    "id": "-hn3p_-FtCz6"
   },
   "outputs": [],
   "source": [
    "# Define the Transition named tuple\n",
    "Transition = namedtuple('Transition', ('states', 'actions', 'rewards', 'dones', 'next_states'))\n",
    "\n",
    "# Define Replay Memory class\n",
    "class Replay_memory():\n",
    "\n",
    "    def __init__(self, env, fullsize, minsize, batchsize):\n",
    "        self.env = env\n",
    "        self.memory = deque(maxlen=fullsize)\n",
    "        self.rewards = deque(maxlen=50)\n",
    "        self.batchsize = batchsize\n",
    "        self.minsize = minsize\n",
    "\n",
    "    def append(self, transition):\n",
    "        self.memory.append(transition)\n",
    "\n",
    "    def sample_batch(self):\n",
    "        # Sample a batch of transitions from memory\n",
    "        batch = random.sample(self.memory, self.batchsize)\n",
    "        batch = Transition(*zip(*batch))\n",
    "        states = torch.from_numpy(np.array(batch.states, dtype=np.float32))\n",
    "        actions = torch.from_numpy(np.array(batch.actions, dtype=np.int64)).unsqueeze(1)\n",
    "        rewards = torch.from_numpy(np.array(batch.rewards, dtype=np.float32)).unsqueeze(1)\n",
    "        dones = torch.from_numpy(np.array(batch.dones, dtype=np.bool8)).unsqueeze(1)\n",
    "        next_states = torch.from_numpy(np.array(batch.next_states, dtype=np.float32))\n",
    "        return states, actions, rewards, dones, next_states\n",
    "\n",
    "    def initialize(self):\n",
    "        obs, _ = env.reset()\n",
    "        for _ in range(self.minsize):\n",
    "            action = self.env.action_space.sample()\n",
    "            new_obs, reward, terminated, truncated, info = env.step(action)\n",
    "            done = terminated or truncated\n",
    "            transition = Transition(obs, action, reward, done, new_obs)\n",
    "            self.append(transition)\n",
    "            obs = new_obs\n",
    "            if done:\n",
    "                self.env.reset()\n",
    "        return self"
   ]
  },
  {
   "cell_type": "code",
   "execution_count": 5,
   "metadata": {
    "id": "6XDTj2xHuuT9"
   },
   "outputs": [],
   "source": [
    "# Initialize replay memory\n",
    "replay_memory = Replay_memory(env, BUFFER_SIZE, MIN_REPLAY_SIZE, BATCH_SIZE).initialize()"
   ]
  },
  {
   "cell_type": "code",
   "execution_count": 6,
   "metadata": {
    "id": "pTh3GRR7Mun3"
   },
   "outputs": [],
   "source": [
    "# Define NoisyLinear class\n",
    "class NoisyLinear(nn.Module):\n",
    "    def __init__(self, in_size, out_size):\n",
    "        super(NoisyLinear, self).__init__()\n",
    "\n",
    "        # Define parameters with noise\n",
    "        self.w_mu = nn.Parameter(torch.empty((out_size, in_size)))\n",
    "        self.w_sigma = nn.Parameter(torch.empty((out_size, in_size)))\n",
    "        self.b_mu = nn.Parameter(torch.empty((out_size)))\n",
    "        self.b_sigma = nn.Parameter(torch.empty((out_size)))\n",
    "\n",
    "        # Initialize parameters\n",
    "        uniform_(self.w_mu, -math.sqrt(3 / in_size), math.sqrt(3 / in_size))\n",
    "        uniform_(self.b_mu, -math.sqrt(3 / in_size), math.sqrt(3 / in_size))\n",
    "        nn.init.constant_(self.w_sigma, 0.017)\n",
    "        nn.init.constant_(self.b_sigma, 0.017)\n",
    "\n",
    "    def forward(self, x, sigma=0.5): \n",
    "        # Forward pass with noise during training\n",
    "        if self.training:\n",
    "            w_noise = torch.normal(0, sigma, size=self.w_mu.size())\n",
    "            b_noise = torch.normal(0, sigma, size=self.b_mu.size())\n",
    "            return F.linear(x, self.w_mu + self.w_sigma * w_noise, self.b_mu + self.b_sigma * b_noise)\n",
    "        else:\n",
    "            # Forward pass without noise during evaluation\n",
    "            return F.linear(x, self.w_mu, self.b_mu)\n"
   ]
  },
  {
   "cell_type": "code",
   "execution_count": 7,
   "metadata": {
    "id": "8gf3yLhEzbwI"
   },
   "outputs": [],
   "source": [
    "# Define DQN class\n",
    "class DQN(nn.Module):\n",
    "    def __init__(self, ninputs, noutputs):\n",
    "        super(DQN, self).__init__()\n",
    "        # Define layers with NoisyLinear\n",
    "        self.a1 = NoisyLinear(ninputs, 128)\n",
    "        self.a2 = NoisyLinear(128, 64)\n",
    "        self.a3 = NoisyLinear(64, noutputs)  \n",
    "\n",
    "    def forward(self, X):\n",
    "        # Forward pass through the network with activation functions\n",
    "        o = self.a1(X)\n",
    "        o = torch.relu(o)  \n",
    "        o = self.a2(o)\n",
    "        o = torch.tanh(o)  \n",
    "        o = self.a3(o)\n",
    "        return o\n",
    "\n",
    "    def __call__(self, X):\n",
    "        return self.forward(X)\n"
   ]
  },
  {
   "cell_type": "code",
   "execution_count": 8,
   "metadata": {
    "colab": {
     "base_uri": "https://localhost:8080/"
    },
    "executionInfo": {
     "elapsed": 931,
     "status": "ok",
     "timestamp": 1699114691295,
     "user": {
      "displayName": "Vince Vella",
      "userId": "12961833731572219082"
     },
     "user_tz": -60
    },
    "id": "OG3YtDlHqgKE",
    "outputId": "be78a6da-f957-4ca5-d1c6-3695a3646142"
   },
   "outputs": [
    {
     "data": {
      "text/plain": [
       "DQN(\n",
       "  (a1): NoisyLinear()\n",
       "  (a2): NoisyLinear()\n",
       "  (a3): NoisyLinear()\n",
       ")"
      ]
     },
     "execution_count": 8,
     "metadata": {},
     "output_type": "execute_result"
    }
   ],
   "source": [
    "# Create DQN policy and target networks\n",
    "dqn_policy = DQN(env.observation_space.shape[0], env.action_space.n)\n",
    "dqn_target = DQN(env.observation_space.shape[0], env.action_space.n)\n",
    "dqn_target.load_state_dict(dqn_policy.state_dict())\n",
    "dqn_policy.train()\n",
    "dqn_target.eval()"
   ]
  },
  {
   "cell_type": "code",
   "execution_count": 9,
   "metadata": {
    "id": "4MX42oYQ1z9N"
   },
   "outputs": [],
   "source": [
    "# Define loss function, learning rate, and optimizer\n",
    "loss_fn = nn.MSELoss()\n",
    "learning_rate = 0.0005   \n",
    "optimizer = torch.optim.RMSprop(dqn_policy.parameters(), lr=learning_rate)\n"
   ]
  },
  {
   "cell_type": "markdown",
   "metadata": {
    "id": "BJPE8zvTaVRD"
   },
   "source": [
    "## Training"
   ]
  },
  {
   "cell_type": "code",
   "execution_count": 10,
   "metadata": {
    "colab": {
     "base_uri": "https://localhost:8080/"
    },
    "executionInfo": {
     "elapsed": 191169,
     "status": "ok",
     "timestamp": 1699114882449,
     "user": {
      "displayName": "Vince Vella",
      "userId": "12961833731572219082"
     },
     "user_tz": -60
    },
    "id": "W02u8e1AaXyl",
    "outputId": "f45d4488-c9ac-4402-caf6-c3db12bd0821"
   },
   "outputs": [
    {
     "name": "stdout",
     "output_type": "stream",
     "text": [
      "Episode: 100 Avg Results: -29.158029935644628\n",
      "Episode: 200 Avg Results: 65.17458662318091\n",
      "Episode: 300 Avg Results: 161.74489785497775\n",
      "Episode: 400 Avg Results: 153.47276070220892\n",
      "Solved at episode: 422 Avg Results: 197.68077332064465\n"
     ]
    }
   ],
   "source": [
    "# Reset environment and initialize variables\n",
    "obs, _ = env.reset()\n",
    "episode = 1\n",
    "all_rewards = []\n",
    "all_episodes = []\n",
    "\n",
    "# Main training loop\n",
    "for step in itertools.count():\n",
    "    # Choose action using the policy (argmax of Q-values)\n",
    "    action = int(torch.argmax(dqn_policy(torch.Tensor(obs))))\n",
    "    \n",
    "    # Take action and observe new state, reward, and termination status\n",
    "    new_obs, reward, terminated, truncated, _ = env.step(action)\n",
    "    done = terminated or truncated\n",
    "    \n",
    "    # Store transition in replay memory\n",
    "    replay_memory.append(Transition(obs, action, reward, done, new_obs))\n",
    "    episode_reward += reward\n",
    "    obs = new_obs\n",
    "\n",
    "    # If episode is done, update replay memory, reset environment, and log statistics\n",
    "    if done:\n",
    "        episode += 1\n",
    "        replay_memory.rewards.append(episode_reward)\n",
    "        obs, _ = env.reset()\n",
    "        avg_res = np.mean(replay_memory.rewards)\n",
    "        all_rewards.append(avg_res)\n",
    "        all_episodes.append(episode)\n",
    "        \n",
    "        # Print statistics every 100 episodes\n",
    "        if episode % 100 == 0:\n",
    "            print(f'Episode: {episode} Avg Results: {avg_res}')\n",
    "\n",
    "        # Check if the environment is considered solved\n",
    "        if avg_res >= 195:\n",
    "            print(f'Solved at episode: {episode} Avg Results: {avg_res}')\n",
    "            break\n",
    "        episode_reward = 0\n",
    "\n",
    "    # Sample a batch from replay memory\n",
    "    b_states, b_actions, b_rewards, b_dones, b_next_states = replay_memory.sample_batch()\n",
    "\n",
    "    # Compute Q-values and target Q-values\n",
    "    qvalues = dqn_policy(b_states).gather(1, b_actions)\n",
    "\n",
    "    with torch.no_grad():\n",
    "        # Compute target Q-values using the target network\n",
    "        target_qvalues = dqn_target(b_next_states)\n",
    "        max_target_qvalues = torch.max(target_qvalues, axis=1).values.unsqueeze(1)\n",
    "        expected_qvalues = b_rewards + GAMMA * (1 - b_dones.type(torch.int64)) * max_target_qvalues\n",
    "\n",
    "    # Compute and backpropagate loss\n",
    "    loss = loss_fn(qvalues, expected_qvalues)\n",
    "    optimizer.zero_grad()\n",
    "    loss.backward()\n",
    "    \n",
    "    # Clip gradients to prevent exploding gradients\n",
    "    for param in dqn_policy.parameters():\n",
    "        param.grad.data.clamp_(-1, 1)\n",
    "    optimizer.step()\n",
    "\n",
    "    # Update target network every TARGET_UPDATE_FREQ episodes\n",
    "    if episode % TARGET_UPDATE_FREQ == 0:\n",
    "        dqn_target.load_state_dict(dqn_policy.state_dict())"
   ]
  },
  {
   "cell_type": "code",
   "execution_count": 11,
   "metadata": {
    "id": "Xdtd5DJHZrCe"
   },
   "outputs": [
    {
     "data": {
      "image/png": "[encoded data removed]",
      "text/plain": [
       "<Figure size 640x480 with 1 Axes>"
      ]
     },
     "metadata": {},
     "output_type": "display_data"
    }
   ],
   "source": [
    "# Plot the returns versus trained episodes\n",
    "plt.plot(all_episodes, all_rewards)\n",
    "plt.xlabel('Episodes')\n",
    "plt.ylabel('Average Rewards')\n",
    "plt.title('Reward vs Episodes')\n",
    "plt.show()"
   ]
  },
  {
   "cell_type": "code",
   "execution_count": null,
   "metadata": {
    "id": "4IXwXrNZzVB2"
   },
   "outputs": [],
   "source": []
  }
 ],
 "metadata": {
  "accelerator": "TPU",
  "colab": {
   "authorship_tag": "ABX9TyMriHhJkCKBtcSSJhEx1dQo",
   "provenance": [
    {
     "file_id": "1sqU6SpAKEWl38_kvTdAasz2F7Acsy2LR",
     "timestamp": 1656770152735
    },
    {
     "file_id": "1b1gnyCrODe-d91bGuCuF2D2mi7Q-k1Am",
     "timestamp": 1652367414969
    },
    {
     "file_id": "1lfwXlCp2ZQpoI7lpS5J423hdDVZzRTJP",
     "timestamp": 1651942364460
    }
   ]
  },
  "kernelspec": {
   "display_name": "Python 3 (ipykernel)",
   "language": "python",
   "name": "python3"
  },
  "language_info": {
   "codemirror_mode": {
    "name": "ipython",
    "version": 3
   },
   "file_extension": ".py",
   "mimetype": "text/x-python",
   "name": "python",
   "nbconvert_exporter": "python",
   "pygments_lexer": "ipython3",
   "version": "3.11.5"
  }
 },
 "nbformat": 4,
 "nbformat_minor": 1
}
