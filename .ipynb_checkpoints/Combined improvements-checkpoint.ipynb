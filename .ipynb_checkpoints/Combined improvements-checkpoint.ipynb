{
 "cells": [
  {
   "cell_type": "markdown",
   "id": "17b40402",
   "metadata": {},
   "source": [
    "# <center>Experiment 1.3</center>"
   ]
  },
  {
   "cell_type": "markdown",
   "id": "b6d8e268",
   "metadata": {},
   "source": [
    "### <center>Combined Improvements</center>"
   ]
  },
  {
   "cell_type": "code",
   "execution_count": 1,
   "id": "d90545d5",
   "metadata": {},
   "outputs": [],
   "source": [
    "import gym\n",
    "import numpy as np\n",
    "import torch\n",
    "import torch.nn as nn\n",
    "import torch.nn.functional as F\n",
    "from torch.nn.init import uniform_\n",
    "import math\n",
    "from collections import namedtuple, deque\n",
    "import random\n",
    "import itertools\n",
    "import matplotlib.pyplot as plt"
   ]
  },
  {
   "cell_type": "code",
   "execution_count": 2,
   "id": "187755ec",
   "metadata": {},
   "outputs": [],
   "source": [
    "# Constants for training\n",
    "GAMMA = 0.98\n",
    "BATCH_SIZE = 64\n",
    "BUFFER_SIZE = 50000\n",
    "MIN_REPLAY_SIZE = 10000\n",
    "EPS_START = 0.5\n",
    "EPS_END = 0.01\n",
    "EPS_DECAY = 0.995\n",
    "TARGET_UPDATE_FREQ = 5\n",
    "\n",
    "# Environment setup\n",
    "env = gym.make(\"LunarLander-v2\", render_mode=\"rgb_array\")\n",
    "obs, _ = env.reset()\n",
    "\n",
    "# Transition tuple\n",
    "Transition = namedtuple('Transition', ('states', 'actions', 'rewards', 'dones', 'next_states'))\n"
   ]
  },
  {
   "cell_type": "code",
   "execution_count": 3,
   "id": "ae1b2b3f",
   "metadata": {},
   "outputs": [],
   "source": [
    "# Replay Memory class\n",
    "class ReplayMemory():\n",
    "    def __init__(self, env, fullsize, minsize, batchsize):\n",
    "        self.env = env\n",
    "        self.memory = deque(maxlen=fullsize)\n",
    "        self.rewards = deque(maxlen=50)\n",
    "        self.batchsize = batchsize\n",
    "        self.minsize = minsize\n",
    "\n",
    "    def append(self, transition):\n",
    "        self.memory.append(transition)\n",
    "\n",
    "    def sample_batch(self):\n",
    "        batch = random.sample(self.memory, self.batchsize)\n",
    "        batch = Transition(*zip(*batch))\n",
    "        states = torch.from_numpy(np.array(batch.states, dtype=np.float32))\n",
    "        actions = torch.from_numpy(np.array(batch.actions, dtype=np.int64)).unsqueeze(1)\n",
    "        rewards = torch.from_numpy(np.array(batch.rewards, dtype=np.float32)).unsqueeze(1)\n",
    "        dones = torch.from_numpy(np.array(batch.dones, dtype=np.bool8)).unsqueeze(1)\n",
    "        next_states = torch.from_numpy(np.array(batch.next_states, dtype=np.float32))\n",
    "        return states, actions, rewards, dones, next_states\n",
    "\n",
    "    def initialize(self):\n",
    "        obs, _ = env.reset()\n",
    "        for _ in range(self.minsize):\n",
    "            action = self.env.action_space.sample()\n",
    "            new_obs, reward, terminated, truncated, info = env.step(action)\n",
    "            done = terminated or truncated\n",
    "            transition = Transition(obs, action, reward, done, new_obs)\n",
    "            self.append(transition)\n",
    "            obs = new_obs\n",
    "            if done:\n",
    "                self.env.reset()\n",
    "        return self"
   ]
  },
  {
   "cell_type": "code",
   "execution_count": 4,
   "id": "e1dbcc8d",
   "metadata": {},
   "outputs": [],
   "source": [
    "# Noisy Linear Layer class\n",
    "class NoisyLinear(nn.Module):\n",
    "    def __init__(self, in_size, out_size):\n",
    "        super(NoisyLinear, self).__init__()\n",
    "\n",
    "        self.w_mu = nn.Parameter(torch.empty((out_size, in_size)))\n",
    "        self.w_sigma = nn.Parameter(torch.empty((out_size, in_size)))\n",
    "        self.b_mu = nn.Parameter(torch.empty((out_size)))\n",
    "        self.b_sigma = nn.Parameter(torch.empty((out_size)))\n",
    "\n",
    "        uniform_(self.w_mu, -math.sqrt(3 / in_size), math.sqrt(3 / in_size))\n",
    "        uniform_(self.b_mu, -math.sqrt(3 / in_size), math.sqrt(3 / in_size))\n",
    "        nn.init.constant_(self.w_sigma, 0.017)\n",
    "        nn.init.constant_(self.b_sigma, 0.017)\n",
    "\n",
    "    def forward(self, x, sigma=0.5):\n",
    "        if self.training:\n",
    "            w_noise = torch.normal(0, sigma, size=self.w_mu.size())\n",
    "            b_noise = torch.normal(0, sigma, size=self.b_mu.size())\n",
    "            return F.linear(x, self.w_mu + self.w_sigma * w_noise, self.b_mu + self.b_sigma * b_noise)\n",
    "        else:\n",
    "            return F.linear(x, self.w_mu, self.b_mu)"
   ]
  },
  {
   "cell_type": "code",
   "execution_count": 5,
   "id": "b9cd7ffb",
   "metadata": {},
   "outputs": [],
   "source": [
    "# Combined DQN class\n",
    "class CombinedDQN(nn.Module):\n",
    "    def __init__(self, ninputs, noutputs):\n",
    "        super(CombinedDQN, self).__init__()\n",
    "        self.double_dqn = DQN(ninputs, noutputs)\n",
    "        self.noisy_dqn = NoisyDQN(ninputs, noutputs)\n",
    "\n",
    "    def forward(self, X):\n",
    "        return self.double_dqn(X), self.noisy_dqn(X)"
   ]
  },
  {
   "cell_type": "code",
   "execution_count": 6,
   "id": "d8f8684f",
   "metadata": {},
   "outputs": [],
   "source": [
    "# Double DQN class\n",
    "class DQN(nn.Module):\n",
    "    def __init__(self, ninputs, noutputs):\n",
    "        super(DQN, self).__init__()\n",
    "        self.a1 = nn.Linear(ninputs, 128)  # Adjust the number of units\n",
    "        self.a2 = nn.Linear(128, noutputs)\n",
    "\n",
    "    def forward(self, X):\n",
    "        o = self.a1(X)\n",
    "        o = torch.tanh(o)\n",
    "        o = self.a2(o)\n",
    "        return o"
   ]
  },
  {
   "cell_type": "code",
   "execution_count": 7,
   "id": "71d43218",
   "metadata": {},
   "outputs": [],
   "source": [
    "# Noisy DQN class\n",
    "class NoisyDQN(nn.Module):\n",
    "    def __init__(self, ninputs, noutputs):\n",
    "        super(NoisyDQN, self).__init__()\n",
    "        self.a1 = NoisyLinear(ninputs, 256)\n",
    "        self.a2 = NoisyLinear(256, 128)  # Experiment with more units\n",
    "        self.a3 = NoisyLinear(128, noutputs)\n",
    "\n",
    "    def forward(self, X):\n",
    "        o = self.a1(X)\n",
    "        o = torch.relu(o)\n",
    "        o = self.a2(o)\n",
    "        o = torch.tanh(o)\n",
    "        o = self.a3(o)\n",
    "        return o"
   ]
  },
  {
   "cell_type": "code",
   "execution_count": 8,
   "id": "a7f6fe0c",
   "metadata": {},
   "outputs": [],
   "source": [
    "# Epsilon-greedy policy function\n",
    "def epsilon_greedy_policy(epsilon, obs):\n",
    "    rnd_sample = random.random()\n",
    "    if rnd_sample <= epsilon:\n",
    "        action = env.action_space.sample()\n",
    "    else:\n",
    "        with torch.no_grad():\n",
    "            # Convert NumPy array to PyTorch tensor\n",
    "            obs_tensor = torch.from_numpy(obs).float()  \n",
    "            \n",
    "            # Using the double DQN part for action selection\n",
    "            action = int(torch.argmax(combined_dqn(obs_tensor)[0]))  \n",
    "    return action\n"
   ]
  },
  {
   "cell_type": "code",
   "execution_count": 9,
   "id": "260a1368",
   "metadata": {},
   "outputs": [
    {
     "name": "stderr",
     "output_type": "stream",
     "text": [
      "C:\\Users\\Nicholas Vella\\anaconda3\\Lib\\site-packages\\gym\\utils\\passive_env_checker.py:233: DeprecationWarning: `np.bool8` is a deprecated alias for `np.bool_`.  (Deprecated NumPy 1.24)\n",
      "  if not isinstance(terminated, (bool, np.bool8)):\n",
      "C:\\Users\\Nicholas Vella\\AppData\\Local\\Temp\\ipykernel_2652\\1421935058.py:19: DeprecationWarning: `np.bool8` is a deprecated alias for `np.bool_`.  (Deprecated NumPy 1.24)\n",
      "  dones = torch.from_numpy(np.array(batch.dones, dtype=np.bool8)).unsqueeze(1)\n"
     ]
    },
    {
     "name": "stdout",
     "output_type": "stream",
     "text": [
      "Episode: 100 Avg Results: -235.0350539889306 Epsilon: 0.3044072545179537\n",
      "Episode: 200 Avg Results: 1.736430058643326 Epsilon: 0.18440091544028497\n",
      "Episode: 300 Avg Results: 98.24006997422497 Epsilon: 0.11170462303555127\n",
      "Solved at episode: 337 Avg Results: 195.470016753374\n"
     ]
    }
   ],
   "source": [
    "# Instantiate combined DQN and initialize replay memory\n",
    "combined_dqn = CombinedDQN(env.observation_space.shape[0], env.action_space.n)\n",
    "replay_memory = ReplayMemory(env, BUFFER_SIZE, MIN_REPLAY_SIZE, BATCH_SIZE).initialize()\n",
    "\n",
    "# Loss function and optimizer\n",
    "loss_fn = nn.MSELoss()\n",
    "learning_rate = 0.0005  \n",
    "optimizer = torch.optim.RMSprop(combined_dqn.parameters(), lr=learning_rate)\n",
    "\n",
    "# Initialize variables for training loop\n",
    "obs, _ = env.reset()\n",
    "eps_threshold = EPS_START\n",
    "episode = 1\n",
    "all_rewards = []\n",
    "all_episodes = []\n",
    "episode_reward = 0\n",
    "\n",
    "# Training loop\n",
    "for step in itertools.count():\n",
    "    # Epsilon-greedy action selection\n",
    "    action = epsilon_greedy_policy(eps_threshold, obs)\n",
    "    new_obs, reward, terminated, truncated, _ = env.step(action)\n",
    "    done = terminated or truncated\n",
    "    \n",
    "    # Store transition in replay memory\n",
    "    replay_memory.append(Transition(obs, action, reward, done, new_obs))\n",
    "    episode_reward += reward\n",
    "    obs = new_obs\n",
    "\n",
    "    # If episode is done, update replay memory, reset environment, and log statistics\n",
    "    if done:\n",
    "        episode += 1\n",
    "        eps_threshold = max(eps_threshold * EPS_DECAY, EPS_END)  \n",
    "        replay_memory.rewards.append(episode_reward)\n",
    "        obs, _ = env.reset()\n",
    "        avg_res = np.mean(replay_memory.rewards)\n",
    "\n",
    "        all_rewards.append(avg_res)\n",
    "        all_episodes.append(episode)\n",
    "        if episode % 100 == 0:\n",
    "            print(f'Episode: {episode} Avg Results: {avg_res} Epsilon: {eps_threshold}')\n",
    "\n",
    "        if avg_res >= 195:\n",
    "            print(f'Solved at episode: {episode} Avg Results: {avg_res}')\n",
    "            break\n",
    "        episode_reward = 0\n",
    "\n",
    "    # Sample a batch for training\n",
    "    b_states, b_actions, b_rewards, b_dones, b_next_states = replay_memory.sample_batch()\n",
    "\n",
    "    # Update the double DQN part\n",
    "    qvalues_double_dqn = combined_dqn.double_dqn(b_states).gather(1, b_actions)\n",
    "    with torch.no_grad():\n",
    "        _, next_actions_double_dqn = combined_dqn.double_dqn(b_next_states).max(dim=1, keepdim=True)\n",
    "        next_action_values_double_dqn = combined_dqn.noisy_dqn(b_next_states).gather(1, next_actions_double_dqn)\n",
    "        expected_qvalues_double_dqn = b_rewards + GAMMA * (1 - b_dones.type(torch.int64)) * next_action_values_double_dqn\n",
    "\n",
    "    loss_double_dqn = loss_fn(qvalues_double_dqn, expected_qvalues_double_dqn)\n",
    "    optimizer.zero_grad()\n",
    "    loss_double_dqn.backward()\n",
    "    optimizer.step()\n",
    "\n",
    "    # Update the noisy DQN part\n",
    "    qvalues_noisy_dqn = combined_dqn.noisy_dqn(b_states).gather(1, b_actions)\n",
    "    with torch.no_grad():\n",
    "        target_qvalues_noisy_dqn = combined_dqn.noisy_dqn(b_next_states)\n",
    "        max_target_qvalues_noisy_dqn = torch.max(target_qvalues_noisy_dqn, axis=1).values.unsqueeze(1)\n",
    "        expected_qvalues_noisy_dqn = b_rewards + GAMMA * (1 - b_dones.type(torch.int64)) * max_target_qvalues_noisy_dqn\n",
    "\n",
    "    loss_noisy_dqn = loss_fn(qvalues_noisy_dqn, expected_qvalues_noisy_dqn)\n",
    "    optimizer.zero_grad()\n",
    "    loss_noisy_dqn.backward()\n",
    "    optimizer.step()\n",
    "\n",
    "    \n",
    "    if episode % TARGET_UPDATE_FREQ == 0:\n",
    "        # Load the state_dict from double_dqn to noisy_dqn, adapting the keys\n",
    "        double_dqn_state_dict = combined_dqn.double_dqn.state_dict()\n",
    "        noisy_dqn_state_dict = combined_dqn.noisy_dqn.state_dict()\n",
    "\n",
    "        for key in double_dqn_state_dict.keys():\n",
    "            if key.startswith(\"double_dqn\"):\n",
    "                # Replace \"double_dqn\" with \"noisy_dqn\" in the keys\n",
    "                noisy_key = key.replace(\"double_dqn\", \"noisy_dqn\")\n",
    "                noisy_dqn_state_dict[noisy_key] = double_dqn_state_dict[key]\n",
    "\n",
    "        # Load the adapted state_dict to noisy_dqn\n",
    "        combined_dqn.noisy_dqn.load_state_dict(noisy_dqn_state_dict)"
   ]
  },
  {
   "cell_type": "code",
   "execution_count": 10,
   "id": "783c19fd",
   "metadata": {},
   "outputs": [
    {
     "data": {
      "image/png": "[encoded data removed]",
      "text/plain": [
       "<Figure size 640x480 with 1 Axes>"
      ]
     },
     "metadata": {},
     "output_type": "display_data"
    }
   ],
   "source": [
    "# Plot the returns versus trained episodes\n",
    "plt.plot(all_episodes, all_rewards)\n",
    "plt.xlabel('Episodes')\n",
    "plt.ylabel('Average Rewards')\n",
    "plt.title('Reward vs Episodes')\n",
    "plt.show()"
   ]
  },
  {
   "cell_type": "code",
   "execution_count": null,
   "id": "907f4c74",
   "metadata": {},
   "outputs": [],
   "source": []
  }
 ],
 "metadata": {
  "kernelspec": {
   "display_name": "Python 3 (ipykernel)",
   "language": "python",
   "name": "python3"
  },
  "language_info": {
   "codemirror_mode": {
    "name": "ipython",
    "version": 3
   },
   "file_extension": ".py",
   "mimetype": "text/x-python",
   "name": "python",
   "nbconvert_exporter": "python",
   "pygments_lexer": "ipython3",
   "version": "3.11.5"
  }
 },
 "nbformat": 4,
 "nbformat_minor": 5
}
