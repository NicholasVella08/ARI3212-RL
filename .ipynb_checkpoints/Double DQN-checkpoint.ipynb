{
 "cells": [
  {
   "cell_type": "markdown",
   "metadata": {},
   "source": [
    "# <center>Experiment 1.2</center>"
   ]
  },
  {
   "cell_type": "markdown",
   "metadata": {},
   "source": [
    "### <center>Improvement 1: Double DQN</center>"
   ]
  },
  {
   "cell_type": "code",
   "execution_count": 1,
   "metadata": {
    "executionInfo": {
     "elapsed": 6,
     "status": "ok",
     "timestamp": 1699034712638,
     "user": {
      "displayName": "Vince Vella",
      "userId": "12961833731572219082"
     },
     "user_tz": -60
    },
    "id": "NgzBrXmI-0pe"
   },
   "outputs": [],
   "source": [
    "import gymnasium as gym\n",
    "import numpy as np\n",
    "import torch\n",
    "import torch.nn as nn\n",
    "import torch.nn.functional as F\n",
    "import matplotlib.pyplot as plt\n",
    "from typing import Sequence\n",
    "from collections import namedtuple, deque\n",
    "import itertools\n",
    "import random\n",
    "import warnings\n",
    "warnings.filterwarnings(\"ignore\")"
   ]
  },
  {
   "cell_type": "code",
   "execution_count": 2,
   "metadata": {
    "executionInfo": {
     "elapsed": 5,
     "status": "ok",
     "timestamp": 1699034712638,
     "user": {
      "displayName": "Vince Vella",
      "userId": "12961833731572219082"
     },
     "user_tz": -60
    },
    "id": "J52YXszzo8CP"
   },
   "outputs": [],
   "source": [
    "# Hyperparameters\n",
    "GAMMA = 0.99\n",
    "BATCH_SIZE = 64\n",
    "BUFFER_SIZE = 10000\n",
    "MIN_REPLAY_SIZE = 5000\n",
    "EPS_START = 1.0\n",
    "EPS_END = 0.05\n",
    "EPS_DECAY = 0.997\n",
    "TARGET_UPDATE_FREQ = 5"
   ]
  },
  {
   "cell_type": "code",
   "execution_count": 3,
   "metadata": {
    "executionInfo": {
     "elapsed": 5,
     "status": "ok",
     "timestamp": 1699034712638,
     "user": {
      "displayName": "Vince Vella",
      "userId": "12961833731572219082"
     },
     "user_tz": -60
    },
    "id": "ZU3kl9XGpgMU"
   },
   "outputs": [],
   "source": [
    "# Create LunarLander environment\n",
    "env = gym.make(\"LunarLander-v2\", render_mode = \"rgb_array\")\n",
    "obs, _ = env.reset()\n",
    "episode_reward = 0.0"
   ]
  },
  {
   "cell_type": "code",
   "execution_count": 4,
   "metadata": {
    "executionInfo": {
     "elapsed": 5,
     "status": "ok",
     "timestamp": 1699034712638,
     "user": {
      "displayName": "Vince Vella",
      "userId": "12961833731572219082"
     },
     "user_tz": -60
    },
    "id": "-hn3p_-FtCz6"
   },
   "outputs": [],
   "source": [
    "# Define the Transition named tuple\n",
    "Transition = namedtuple('Transition', ('states', 'actions', 'rewards', 'dones', 'next_states'))\n",
    "\n",
    "# Define Replay Memory class\n",
    "class Replay_memory():\n",
    "\n",
    "    def __init__(self, env, fullsize, minsize, batchsize):\n",
    "        self.env = env\n",
    "        self.memory = deque(maxlen=fullsize)\n",
    "        self.rewards = deque(maxlen=50)\n",
    "        self.batchsize = batchsize\n",
    "        self.minsize = minsize\n",
    "\n",
    "    def append(self, transition):\n",
    "        self.memory.append(transition)\n",
    "\n",
    "    def sample_batch(self):\n",
    "        # Sample a batch of transitions from memory\n",
    "        batch = random.sample(self.memory, self.batchsize)\n",
    "        batch = Transition(*zip(*batch))\n",
    "        states = torch.from_numpy(np.array(batch.states, dtype=np.float32))\n",
    "        actions = torch.from_numpy(np.array(batch.actions, dtype=np.int64)).unsqueeze(1)\n",
    "        rewards = torch.from_numpy(np.array(batch.rewards, dtype=np.float32)).unsqueeze(1)\n",
    "        dones = torch.from_numpy(np.array(batch.dones, dtype=np.bool8)).unsqueeze(1)\n",
    "        next_states = torch.from_numpy(np.array(batch.next_states, dtype=np.float32))\n",
    "        return states, actions, rewards, dones, next_states\n",
    "\n",
    "    def initialize(self):\n",
    "        # Initialize replay memory with random actions\n",
    "        obs, _ = env.reset()\n",
    "        for _ in range(self.minsize):\n",
    "            action = self.env.action_space.sample()\n",
    "            new_obs, reward, terminated, truncated, info = env.step(action)\n",
    "            done = terminated or truncated\n",
    "            transition = Transition(obs, action, reward, done, new_obs)\n",
    "            self.append(transition)\n",
    "            obs = new_obs\n",
    "            if done:\n",
    "                self.env.reset()\n",
    "        return self"
   ]
  },
  {
   "cell_type": "code",
   "execution_count": 5,
   "metadata": {
    "executionInfo": {
     "elapsed": 389,
     "status": "ok",
     "timestamp": 1699034713023,
     "user": {
      "displayName": "Vince Vella",
      "userId": "12961833731572219082"
     },
     "user_tz": -60
    },
    "id": "6XDTj2xHuuT9"
   },
   "outputs": [],
   "source": [
    "# Initialize replay memory\n",
    "replay_memory = Replay_memory(env, BUFFER_SIZE, MIN_REPLAY_SIZE, BATCH_SIZE).initialize()"
   ]
  },
  {
   "cell_type": "code",
   "execution_count": 6,
   "metadata": {
    "executionInfo": {
     "elapsed": 6,
     "status": "ok",
     "timestamp": 1699034713024,
     "user": {
      "displayName": "Vince Vella",
      "userId": "12961833731572219082"
     },
     "user_tz": -60
    },
    "id": "8gf3yLhEzbwI"
   },
   "outputs": [],
   "source": [
    "# Define Deep Q Network (DQN) class\n",
    "class DQN(nn.Module):\n",
    "    def __init__(self, ninputs, noutputs):\n",
    "        super(DQN, self).__init__()\n",
    "        self.a1 = nn.Linear(ninputs, 64)\n",
    "        self.a2 = nn.Linear(64, noutputs)\n",
    "\n",
    "    def forward(self, X):\n",
    "        # Forward pass through the network\n",
    "        o = self.a1(X)\n",
    "        o = torch.tanh(o)\n",
    "        o = self.a2(o)\n",
    "        return o\n",
    "\n",
    "    def __call__(self, X):\n",
    "        return self.forward(X)"
   ]
  },
  {
   "cell_type": "code",
   "execution_count": 7,
   "metadata": {
    "colab": {
     "base_uri": "https://localhost:8080/"
    },
    "executionInfo": {
     "elapsed": 6,
     "status": "ok",
     "timestamp": 1699034713024,
     "user": {
      "displayName": "Vince Vella",
      "userId": "12961833731572219082"
     },
     "user_tz": -60
    },
    "id": "OG3YtDlHqgKE",
    "outputId": "44d0c22b-c2f3-4b32-b9e0-072f72028f16"
   },
   "outputs": [
    {
     "data": {
      "text/plain": [
       "DQN(\n",
       "  (a1): Linear(in_features=8, out_features=64, bias=True)\n",
       "  (a2): Linear(in_features=64, out_features=4, bias=True)\n",
       ")"
      ]
     },
     "execution_count": 7,
     "metadata": {},
     "output_type": "execute_result"
    }
   ],
   "source": [
    "# Create DQN policy and target networks\n",
    "dqn_policy = DQN(env.observation_space.shape[0], env.action_space.n)\n",
    "dqn_target = DQN(env.observation_space.shape[0], env.action_space.n)\n",
    "dqn_target.load_state_dict(dqn_policy.state_dict())\n",
    "dqn_target.eval()"
   ]
  },
  {
   "cell_type": "code",
   "execution_count": 8,
   "metadata": {
    "executionInfo": {
     "elapsed": 4,
     "status": "ok",
     "timestamp": 1699034713024,
     "user": {
      "displayName": "Vince Vella",
      "userId": "12961833731572219082"
     },
     "user_tz": -60
    },
    "id": "4MX42oYQ1z9N"
   },
   "outputs": [],
   "source": [
    "# Define loss function, learning rate, and optimizer\n",
    "loss_fn = nn.MSELoss()\n",
    "learning_rate = 0.0005\n",
    "optimizer = torch.optim.Adam(dqn_policy.parameters(), lr=learning_rate)"
   ]
  },
  {
   "cell_type": "code",
   "execution_count": 9,
   "metadata": {
    "executionInfo": {
     "elapsed": 4,
     "status": "ok",
     "timestamp": 1699034713024,
     "user": {
      "displayName": "Vince Vella",
      "userId": "12961833731572219082"
     },
     "user_tz": -60
    },
    "id": "7Mf-uHB-LT8a"
   },
   "outputs": [],
   "source": [
    "# Define epsilon-greedy policy\n",
    "def epsilon_greedy_policy(epsilon, obs):\n",
    "    rnd_sample = random.random()\n",
    "    if rnd_sample <= epsilon:\n",
    "        action = env.action_space.sample()\n",
    "    else:\n",
    "        with torch.no_grad():\n",
    "            action = int(torch.argmax(dqn_policy(torch.Tensor(obs))))\n",
    "    return action"
   ]
  },
  {
   "cell_type": "markdown",
   "metadata": {
    "id": "BJPE8zvTaVRD"
   },
   "source": [
    "## Training"
   ]
  },
  {
   "cell_type": "code",
   "execution_count": 10,
   "metadata": {
    "colab": {
     "base_uri": "https://localhost:8080/"
    },
    "executionInfo": {
     "elapsed": 84954,
     "status": "ok",
     "timestamp": 1699034797974,
     "user": {
      "displayName": "Vince Vella",
      "userId": "12961833731572219082"
     },
     "user_tz": -60
    },
    "id": "W02u8e1AaXyl",
    "outputId": "e5cc3d87-2d5b-44d7-c2d8-e24049d5bdd7"
   },
   "outputs": [
    {
     "name": "stdout",
     "output_type": "stream",
     "text": [
      "Episode: 100 Avg Results: -182.6131515307786 Epsilon: 0.7427123967299725\n",
      "Episode: 200 Avg Results: -134.72222670785874 Epsilon: 0.549966839143611\n",
      "Episode: 300 Avg Results: -87.92931699823605 Epsilon: 0.40724178765469166\n",
      "Episode: 400 Avg Results: 60.4683796197658 Epsilon: 0.3015561335851415\n",
      "Episode: 500 Avg Results: 114.7022335073315 Epsilon: 0.22329757028747313\n",
      "Episode: 600 Avg Results: 166.37837120134995 Epsilon: 0.16534833599135207\n",
      "Solved at episode: 641 Avg Results: 195.37330173008374\n"
     ]
    }
   ],
   "source": [
    "# Reset environment and initialize variables\n",
    "obs, _ = env.reset()\n",
    "eps_threshold =EPS_START\n",
    "episode = 1\n",
    "all_rewards = []\n",
    "all_episodes = []\n",
    "\n",
    "# Main training loop\n",
    "for step in itertools.count():\n",
    "    # Choose action using epsilon-greedy policy\n",
    "    action = epsilon_greedy_policy(eps_threshold, obs)\n",
    "    \n",
    "    # Take action and observe new state, reward, and termination status\n",
    "    new_obs, reward, terminated, truncated, _ = env.step(action)\n",
    "    done = terminated or truncated\n",
    "    \n",
    "    # Store transition in replay memory\n",
    "    replay_memory.append(Transition(obs, action, reward, done, new_obs))\n",
    "    episode_reward += reward\n",
    "    obs = new_obs\n",
    "\n",
    "    # If episode is done, update epsilon, reset environment, and log statistics\n",
    "    if done:\n",
    "        episode += 1\n",
    "        eps_threshold = np.max((eps_threshold*EPS_DECAY, EPS_END))\n",
    "        replay_memory.rewards.append(episode_reward)\n",
    "        obs, _ = env.reset()\n",
    "        avg_res = np.mean(replay_memory.rewards)\n",
    "        \n",
    "        all_rewards.append(avg_res)\n",
    "        all_episodes.append(episode)\n",
    "        \n",
    "        # Print statistics every 100 episodes\n",
    "        if episode % 100 == 0:\n",
    "            print(f'Episode: {episode} Avg Results: {avg_res} Epsilon: {eps_threshold}')\n",
    "\n",
    "        # Check if the environment is considered solved\n",
    "        if avg_res >= 195:\n",
    "            print(f'Solved at episode: {episode} Avg Results: {avg_res}')\n",
    "            break\n",
    "        episode_reward = 0\n",
    "\n",
    "    # Sample a batch from replay memory\n",
    "    b_states, b_actions, b_rewards, b_dones, b_next_states = replay_memory.sample_batch()\n",
    "\n",
    "    # Compute Q-values and target Q-values\n",
    "    qvalues = dqn_policy(b_states).gather(1, b_actions)\n",
    "\n",
    "    with torch.no_grad():\n",
    "        # use dqn_policy to get actions in next state\n",
    "        _, next_actions = dqn_policy(b_next_states).max(dim=1, keepdim=True)\n",
    "        \n",
    "        # use dqn_target to get values of actions selected by dqn_policy\n",
    "        next_action_values = dqn_target(b_next_states).gather(1, next_actions)  \n",
    "\n",
    "        # Compute expected Q-values\n",
    "        expected_qvalues = b_rewards + GAMMA * (1 - b_dones.type(torch.int64)) * next_action_values\n",
    "\n",
    "     # Compute and backpropagate loss\n",
    "    loss = loss_fn(qvalues, expected_qvalues)\n",
    "    optimizer.zero_grad()\n",
    "    loss.backward()\n",
    "    \n",
    "    # Clip gradients to prevent exploding gradients\n",
    "    for param in dqn_policy.parameters():\n",
    "        param.grad.data.clamp_(-1, 1)\n",
    "    optimizer.step()\n",
    "\n",
    "    # Update target network every TARGET_UPDATE_FREQ episodes\n",
    "    if episode % TARGET_UPDATE_FREQ == 0:\n",
    "        dqn_target.load_state_dict(dqn_policy.state_dict())\n"
   ]
  },
  {
   "cell_type": "code",
   "execution_count": 11,
   "metadata": {
    "executionInfo": {
     "elapsed": 19,
     "status": "ok",
     "timestamp": 1699034797975,
     "user": {
      "displayName": "Vince Vella",
      "userId": "12961833731572219082"
     },
     "user_tz": -60
    },
    "id": "-1eRORGxbYNf"
   },
   "outputs": [
    {
     "data": {
      "image/png": "[encoded data removed]",
      "text/plain": [
       "<Figure size 640x480 with 1 Axes>"
      ]
     },
     "metadata": {},
     "output_type": "display_data"
    }
   ],
   "source": [
    "# Plot the returns versus trained episodes\n",
    "plt.plot(all_episodes, all_rewards)\n",
    "plt.xlabel('Episodes')\n",
    "plt.ylabel('Average Rewards')\n",
    "plt.title('Reward vs Episodes')\n",
    "plt.show()"
   ]
  },
  {
   "cell_type": "code",
   "execution_count": null,
   "metadata": {
    "executionInfo": {
     "elapsed": 18,
     "status": "ok",
     "timestamp": 1699034802044,
     "user": {
      "displayName": "Vince Vella",
      "userId": "12961833731572219082"
     },
     "user_tz": -60
    },
    "id": "u5UwfVVrqT_q"
   },
   "outputs": [],
   "source": []
  }
 ],
 "metadata": {
  "accelerator": "TPU",
  "colab": {
   "authorship_tag": "ABX9TyM1Rj+LdUFbN7m9kP3DUtXT",
   "provenance": [
    {
     "file_id": "1sqU6SpAKEWl38_kvTdAasz2F7Acsy2LR",
     "timestamp": 1657357228679
    },
    {
     "file_id": "1b1gnyCrODe-d91bGuCuF2D2mi7Q-k1Am",
     "timestamp": 1652367414969
    },
    {
     "file_id": "1lfwXlCp2ZQpoI7lpS5J423hdDVZzRTJP",
     "timestamp": 1651942364460
    }
   ]
  },
  "kernelspec": {
   "display_name": "Python 3 (ipykernel)",
   "language": "python",
   "name": "python3"
  },
  "language_info": {
   "codemirror_mode": {
    "name": "ipython",
    "version": 3
   },
   "file_extension": ".py",
   "mimetype": "text/x-python",
   "name": "python",
   "nbconvert_exporter": "python",
   "pygments_lexer": "ipython3",
   "version": "3.11.5"
  }
 },
 "nbformat": 4,
 "nbformat_minor": 1
}
